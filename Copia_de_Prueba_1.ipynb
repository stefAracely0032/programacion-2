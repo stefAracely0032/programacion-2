{
  "nbformat": 4,
  "nbformat_minor": 0,
  "metadata": {
    "colab": {
      "name": "Copia de Prueba_1.ipynb",
      "provenance": [],
      "collapsed_sections": [],
      "toc_visible": true,
      "include_colab_link": true
    },
    "kernelspec": {
      "name": "python3",
      "display_name": "Python 3"
    }
  },
  "cells": [
    {
      "cell_type": "markdown",
      "metadata": {
        "id": "view-in-github",
        "colab_type": "text"
      },
      "source": [
        "<a href=\"https://colab.research.google.com/github/stefAracely0032/programacion-2/blob/master/Copia_de_Prueba_1.ipynb\" target=\"_parent\"><img src=\"https://colab.research.google.com/assets/colab-badge.svg\" alt=\"Open In Colab\"/></a>"
      ]
    },
    {
      "cell_type": "markdown",
      "metadata": {
        "id": "XVj8RvlXW-FT",
        "colab_type": "text"
      },
      "source": [
        "## Evaluación 1"
      ]
    },
    {
      "cell_type": "markdown",
      "metadata": {
        "id": "wNxBYdZrW3GZ",
        "colab_type": "text"
      },
      "source": [
        "**Ejercicio 1:**\n",
        "\n",
        "%%latex\n",
        "\\begin{eqnarray}\n",
        "\\frac{2^3+10/5}{15}\n",
        "\\end{eqnarray}\n"
      ]
    },
    {
      "cell_type": "code",
      "metadata": {
        "id": "3UKIOW0phj1b",
        "colab_type": "code",
        "colab": {}
      },
      "source": [
        "(5*2*2*2+10)/15"
      ],
      "execution_count": 0,
      "outputs": []
    },
    {
      "cell_type": "markdown",
      "metadata": {
        "id": "tChFbTDTXDRs",
        "colab_type": "text"
      },
      "source": [
        "**Ejercicio 2:**\n",
        "\n",
        "Revertir la palabra 'Hello world'."
      ]
    },
    {
      "cell_type": "code",
      "metadata": {
        "id": "NPfVk6YhbpjK",
        "colab_type": "code",
        "colab": {}
      },
      "source": [
        "cadena=\"h e l l o w o r l d\""
      ],
      "execution_count": 0,
      "outputs": []
    },
    {
      "cell_type": "code",
      "metadata": {
        "id": "LL2WZ49ojSQz",
        "colab_type": "code",
        "outputId": "352f2175-17f4-417f-cb8c-0c4c187745f4",
        "colab": {
          "base_uri": "https://localhost:8080/",
          "height": 34
        }
      },
      "source": [
        "cadena.split(\" \")"
      ],
      "execution_count": 0,
      "outputs": [
        {
          "output_type": "execute_result",
          "data": {
            "text/plain": [
              "['h', 'e', 'l', 'l', 'o', 'w', 'o', 'r', 'l', 'd']"
            ]
          },
          "metadata": {
            "tags": []
          },
          "execution_count": 56
        }
      ]
    },
    {
      "cell_type": "code",
      "metadata": {
        "id": "N0RiGB5PjXIt",
        "colab_type": "code",
        "colab": {}
      },
      "source": [
        "l1=cadena.split(\" \")"
      ],
      "execution_count": 0,
      "outputs": []
    },
    {
      "cell_type": "code",
      "metadata": {
        "id": "jIR1YC-bc7Q_",
        "colab_type": "code",
        "colab": {}
      },
      "source": [
        "l1.reverse()"
      ],
      "execution_count": 0,
      "outputs": []
    },
    {
      "cell_type": "code",
      "metadata": {
        "id": "q9MFdQ6dciG7",
        "colab_type": "code",
        "outputId": "827a7de5-a0c1-49ab-f812-8e3dec8d0555",
        "colab": {
          "base_uri": "https://localhost:8080/",
          "height": 34
        }
      },
      "source": [
        "l1"
      ],
      "execution_count": 0,
      "outputs": [
        {
          "output_type": "execute_result",
          "data": {
            "text/plain": [
              "['d', 'l', 'r', 'o', 'w', 'o', 'l', 'l', 'e', 'h']"
            ]
          },
          "metadata": {
            "tags": []
          },
          "execution_count": 59
        }
      ]
    },
    {
      "cell_type": "markdown",
      "metadata": {
        "id": "pJQ3T7giXK6n",
        "colab_type": "text"
      },
      "source": [
        "**Ejercicio 3:**\n",
        "\n",
        "Cree la siguiente lista [0,0,0] de 2 formas distintas."
      ]
    },
    {
      "cell_type": "code",
      "metadata": {
        "id": "0BxdIC9idrAz",
        "colab_type": "code",
        "colab": {}
      },
      "source": [
        "l2=[\"0\",\"0\",\"0\"]"
      ],
      "execution_count": 0,
      "outputs": []
    },
    {
      "cell_type": "code",
      "metadata": {
        "id": "wmysfMjcd2zC",
        "colab_type": "code",
        "outputId": "e6eaee1c-4176-4b90-8d28-3a9cd4ae7705",
        "colab": {
          "base_uri": "https://localhost:8080/",
          "height": 34
        }
      },
      "source": [
        "l2"
      ],
      "execution_count": 0,
      "outputs": [
        {
          "output_type": "execute_result",
          "data": {
            "text/plain": [
              "['0', '0', '0']"
            ]
          },
          "metadata": {
            "tags": []
          },
          "execution_count": 25
        }
      ]
    },
    {
      "cell_type": "code",
      "metadata": {
        "id": "cFRoOOFzd5pL",
        "colab_type": "code",
        "colab": {}
      },
      "source": [
        "l3=[\"0\",\"0\"]"
      ],
      "execution_count": 0,
      "outputs": []
    },
    {
      "cell_type": "code",
      "metadata": {
        "id": "60TwJKEveiwq",
        "colab_type": "code",
        "colab": {}
      },
      "source": [
        "l4=[\"0\"]"
      ],
      "execution_count": 0,
      "outputs": []
    },
    {
      "cell_type": "code",
      "metadata": {
        "id": "S2euff3keo-D",
        "colab_type": "code",
        "colab": {}
      },
      "source": [
        "l4.extend(l3)"
      ],
      "execution_count": 0,
      "outputs": []
    },
    {
      "cell_type": "code",
      "metadata": {
        "id": "NJlFDhk7ev2i",
        "colab_type": "code",
        "outputId": "5b813549-9329-4e1f-e63d-676d5c9a468b",
        "colab": {
          "base_uri": "https://localhost:8080/",
          "height": 34
        }
      },
      "source": [
        "l4"
      ],
      "execution_count": 0,
      "outputs": [
        {
          "output_type": "execute_result",
          "data": {
            "text/plain": [
              "['0', '0', '0']"
            ]
          },
          "metadata": {
            "tags": []
          },
          "execution_count": 30
        }
      ]
    },
    {
      "cell_type": "markdown",
      "metadata": {
        "id": "yUhIGt1MXPJ9",
        "colab_type": "text"
      },
      "source": [
        "**Ejercicio 4:**\n",
        "\n",
        "Cambie la palabra 'hello' por 'goodbye'"
      ]
    },
    {
      "cell_type": "code",
      "metadata": {
        "id": "5KOufWplXKbL",
        "colab_type": "code",
        "colab": {}
      },
      "source": [
        "lista = [1, 2, [3, 4, ('hello')]]"
      ],
      "execution_count": 0,
      "outputs": []
    },
    {
      "cell_type": "markdown",
      "metadata": {
        "id": "G5gvlXj7XkB4",
        "colab_type": "text"
      },
      "source": [
        "**Ejercicio 5:**\n",
        "\n",
        "Obtenga la palabra 'hello' de los siguiente ejemplos"
      ]
    },
    {
      "cell_type": "code",
      "metadata": {
        "id": "7LZqtfpzXJ3e",
        "colab_type": "code",
        "colab": {}
      },
      "source": [
        "d1 = {'simple_key':'hello'}"
      ],
      "execution_count": 0,
      "outputs": []
    },
    {
      "cell_type": "code",
      "metadata": {
        "id": "h8WJmBgRh_s7",
        "colab_type": "code",
        "outputId": "6468e8e4-50a3-40e1-e9b5-c03747423584",
        "colab": {
          "base_uri": "https://localhost:8080/",
          "height": 34
        }
      },
      "source": [
        "d1[\"simple_key\"]"
      ],
      "execution_count": 0,
      "outputs": [
        {
          "output_type": "execute_result",
          "data": {
            "text/plain": [
              "'hello'"
            ]
          },
          "metadata": {
            "tags": []
          },
          "execution_count": 37
        }
      ]
    },
    {
      "cell_type": "code",
      "metadata": {
        "id": "0e7JZVDHXtup",
        "colab_type": "code",
        "colab": {}
      },
      "source": [
        "d2 = {'k1':{'k2':'hello'}}"
      ],
      "execution_count": 0,
      "outputs": []
    },
    {
      "cell_type": "code",
      "metadata": {
        "id": "RcgZ-rDyiQU4",
        "colab_type": "code",
        "outputId": "69f03252-c3ba-474b-c0af-6197a46818ee",
        "colab": {
          "base_uri": "https://localhost:8080/",
          "height": 34
        }
      },
      "source": [
        "d2[\"k1\"][\"k2\"]"
      ],
      "execution_count": 0,
      "outputs": [
        {
          "output_type": "execute_result",
          "data": {
            "text/plain": [
              "'hello'"
            ]
          },
          "metadata": {
            "tags": []
          },
          "execution_count": 41
        }
      ]
    },
    {
      "cell_type": "code",
      "metadata": {
        "id": "iIRA-K9kZFxw",
        "colab_type": "code",
        "colab": {}
      },
      "source": [
        "estacion = {\n",
        "    \"cate\": \"CO\",\n",
        "    \"cod\": \"105062\",\n",
        "    \"cod_old\": \"000349\",\n",
        "    \"estado\": \"DIFERIDO\",\n",
        "    \"ico\": \"M\",\n",
        "    \"lat\": -5.67175,\n",
        "    \"lon\": -78.89767,\n",
        "    \"nom\": \"hello\"\n",
        "}"
      ],
      "execution_count": 0,
      "outputs": []
    },
    {
      "cell_type": "code",
      "metadata": {
        "id": "VIBQ5hqjivNK",
        "colab_type": "code",
        "outputId": "4bb911b2-ee2f-4f35-8c6a-e43da36d6bf3",
        "colab": {
          "base_uri": "https://localhost:8080/",
          "height": 34
        }
      },
      "source": [
        "estacion[\"nom\"]"
      ],
      "execution_count": 0,
      "outputs": [
        {
          "output_type": "execute_result",
          "data": {
            "text/plain": [
              "'hello'"
            ]
          },
          "metadata": {
            "tags": []
          },
          "execution_count": 43
        }
      ]
    },
    {
      "cell_type": "markdown",
      "metadata": {
        "id": "VWq1nlZTXzDJ",
        "colab_type": "text"
      },
      "source": [
        "**Ejercicio 6:**\n",
        "\n",
        "¿Cuantos números por encima de 20 existen en la siguiente lista. Resuelvalo usando for."
      ]
    },
    {
      "cell_type": "code",
      "metadata": {
        "id": "HrFRXOsyXx-y",
        "colab_type": "code",
        "colab": {}
      },
      "source": [
        "lista = [10, 40, 60, 70, 80]"
      ],
      "execution_count": 0,
      "outputs": []
    },
    {
      "cell_type": "code",
      "metadata": {
        "id": "EqagHWdRi61j",
        "colab_type": "code",
        "colab": {}
      },
      "source": [
        ""
      ],
      "execution_count": 0,
      "outputs": []
    },
    {
      "cell_type": "markdown",
      "metadata": {
        "id": "bJADk5f6YAZ7",
        "colab_type": "text"
      },
      "source": [
        "**Ejercicio 7:**\n",
        "\n",
        "Crear un programa que mencione si un número es positivo, negativo o cero."
      ]
    },
    {
      "cell_type": "code",
      "metadata": {
        "id": "NuVNDFnRX_97",
        "colab_type": "code",
        "colab": {}
      },
      "source": [
        "num = [0, -2, 4, 5, 6]"
      ],
      "execution_count": 0,
      "outputs": []
    },
    {
      "cell_type": "markdown",
      "metadata": {
        "id": "q7pw8cS8YNzR",
        "colab_type": "text"
      },
      "source": [
        "**Ejercicio 8:**\n",
        "\n",
        "Crear un programa al que se le ingrese grados Kelvin y devuelva Farenheit y Celcius."
      ]
    }
  ]
}