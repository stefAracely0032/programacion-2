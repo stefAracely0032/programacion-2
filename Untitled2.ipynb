{
  "nbformat": 4,
  "nbformat_minor": 0,
  "metadata": {
    "colab": {
      "name": "Untitled2.ipynb",
      "provenance": [],
      "include_colab_link": true
    },
    "kernelspec": {
      "name": "python2",
      "display_name": "Python 2"
    }
  },
  "cells": [
    {
      "cell_type": "markdown",
      "metadata": {
        "id": "view-in-github",
        "colab_type": "text"
      },
      "source": [
        "<a href=\"https://colab.research.google.com/github/stefAracely0032/programacion-2/blob/master/Untitled2.ipynb\" target=\"_parent\"><img src=\"https://colab.research.google.com/assets/colab-badge.svg\" alt=\"Open In Colab\"/></a>"
      ]
    },
    {
      "cell_type": "code",
      "metadata": {
        "id": "JteO4RwLxWpb",
        "colab_type": "code",
        "colab": {}
      },
      "source": [
        "def num(n):\n",
        "    for x in range (0, n):\n",
        "      print(x*\"{}\".format(x))"
      ],
      "execution_count": 0,
      "outputs": []
    },
    {
      "cell_type": "code",
      "metadata": {
        "id": "FVy6QQ41x1_x",
        "colab_type": "code",
        "colab": {
          "base_uri": "https://localhost:8080/",
          "height": 272
        },
        "outputId": "9cee1d8f-bdda-49b9-ed53-898abf01544d"
      },
      "source": [
        "num(15)"
      ],
      "execution_count": 29,
      "outputs": [
        {
          "output_type": "stream",
          "text": [
            "\n",
            "1\n",
            "22\n",
            "333\n",
            "4444\n",
            "55555\n",
            "666666\n",
            "7777777\n",
            "88888888\n",
            "999999999\n",
            "10101010101010101010\n",
            "1111111111111111111111\n",
            "121212121212121212121212\n",
            "13131313131313131313131313\n",
            "1414141414141414141414141414\n"
          ],
          "name": "stdout"
        }
      ]
    },
    {
      "cell_type": "code",
      "metadata": {
        "id": "vYfZnulgzltr",
        "colab_type": "code",
        "colab": {}
      },
      "source": [
        "def tabla(y):\n",
        "    for a in range (1,13):\n",
        "      print(\"%s x%s =%s\" % (a,y,a*y))"
      ],
      "execution_count": 0,
      "outputs": []
    },
    {
      "cell_type": "code",
      "metadata": {
        "id": "xKpZQNPg2mQ7",
        "colab_type": "code",
        "colab": {
          "base_uri": "https://localhost:8080/",
          "height": 221
        },
        "outputId": "a4782535-065d-40eb-b1f0-791e84aa1f65"
      },
      "source": [
        "tabla(8)"
      ],
      "execution_count": 49,
      "outputs": [
        {
          "output_type": "stream",
          "text": [
            "1 x8 =8\n",
            "2 x8 =16\n",
            "3 x8 =24\n",
            "4 x8 =32\n",
            "5 x8 =40\n",
            "6 x8 =48\n",
            "7 x8 =56\n",
            "8 x8 =64\n",
            "9 x8 =72\n",
            "10 x8 =80\n",
            "11 x8 =88\n",
            "12 x8 =96\n"
          ],
          "name": "stdout"
        }
      ]
    }
  ]
}